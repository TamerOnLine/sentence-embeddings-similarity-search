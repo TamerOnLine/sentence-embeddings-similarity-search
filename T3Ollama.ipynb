{
 "cells": [
  {
   "cell_type": "markdown",
   "metadata": {},
   "source": [
    "# Convert Sentences to Embeddings Using Ollama and Implement Similarity Search with a Vector Database\n",
    "**Requirements:**\n",
    "-   Use Ollama to convert three sample sentences into embeddings.\n",
    "-   Store the embeddings in a vector database (e.g., FAISS or Pinecone).\n",
    "-   Implement a similarity search function to compare the embeddings and return the most similar sentence for a given query.\n",
    "-   Test the system by inputting a new sentence and retrieving the most semantically similar one from the stored sentences.\n"
   ]
  },
  {
   "cell_type": "code",
   "execution_count": 38,
   "metadata": {},
   "outputs": [
    {
     "name": "stdout",
     "output_type": "stream",
     "text": [
      "embeddings:4096\n",
      "embeddings:[-0.02826381  0.0087396  -0.00126848 ...  0.00023615 -0.00718686\n",
      " -0.00458469]\n",
      "embeddings:[-0.01386364 -0.00155403 -0.00781528 ... -0.01457712  0.00666132\n",
      "  0.01650506]\n",
      "embeddings:[-0.02826381  0.0087396  -0.00126848 ...  0.00023615 -0.00718686\n",
      " -0.00458469]\n",
      "dimension:4096\n",
      "index:0\n",
      "Indices of the closest sentences: [[0 2 1]\n",
      " [1 0 2]\n",
      " [0 2 1]]\n",
      "Distances to the closest sentences: [[0.        0.        1.7508826]\n",
      " [0.        1.7508826 1.7508826]\n",
      " [0.        0.        1.7508826]]\n"
     ]
    }
   ],
   "source": [
    "import faiss\n",
    "import numpy as np\n",
    "import ollama\n",
    "\n",
    "def text_to_embedding_ollama(text):\n",
    "    model_name = \"llama2\" \n",
    "    response = ollama.embed(model=model_name, input=text)\n",
    "    \n",
    "    # Extract the embeddings from the response dictionary\n",
    "    if 'embeddings' in response:\n",
    "        embedding = response['embeddings'][0]  # Assuming the embedding is in the first element\n",
    "        #print(f\"embedding: \")\n",
    "        return np.array(embedding)\n",
    "        \n",
    "    else:\n",
    "        print(\"Error: 'embeddings' key not found in the response.\")\n",
    "        return None\n",
    "\n",
    "sentences = [\n",
    "    \n",
    "    \"Tamer\",\n",
    "    \"b\",\n",
    "    \"Tamer\"\n",
    "]\n",
    "\n",
    "# Get embeddings for all sentences\n",
    "embeddings = [text_to_embedding_ollama(sentence) for sentence in sentences]\n",
    "\n",
    "# Filter out None values (in case of errors)\n",
    "embeddings = [embedding for embedding in embeddings if embedding is not None]\n",
    "\n",
    "print(f\"embeddings:{len(embeddings[0])}\")\n",
    "print(f\"embeddings:{(embeddings[0])}\")\n",
    "print(f\"embeddings:{(embeddings[1])}\")\n",
    "print(f\"embeddings:{(embeddings[2])}\")\n",
    "# If embeddings exist, proceed with FAISS\n",
    "if embeddings:\n",
    "    embeddings_np = np.array(embeddings).astype('float32')\n",
    "\n",
    "    # Using FAISS for similarity search\n",
    "    dimension = embeddings_np.shape[1]  # Dimension of the embedding vectors\n",
    "    index = faiss.IndexFlatL2(dimension)  # Index for L2 distance\n",
    "    print(f\"dimension:{dimension}\")\n",
    "    print(f\"index:{index.ntotal}\")\n",
    "    # Add embeddings to the index\n",
    "    index.add(embeddings_np)\n",
    "\n",
    "    # Perform a search with one of the embeddings to find the most similar ones\n",
    "    D, I = index.search(embeddings_np, 3)  # 3 nearest neighbors\n",
    "\n",
    "\n",
    "    print(\"Indices of the closest sentences:\", I)\n",
    "    print(\"Distances to the closest sentences:\", D)\n",
    "else:\n",
    "    print(\"No valid embeddings found.\")\n",
    "\n",
    "\n",
    "\n"
   ]
  }
 ],
 "metadata": {
  "kernelspec": {
   "display_name": "myenv",
   "language": "python",
   "name": "python3"
  },
  "language_info": {
   "codemirror_mode": {
    "name": "ipython",
    "version": 3
   },
   "file_extension": ".py",
   "mimetype": "text/x-python",
   "name": "python",
   "nbconvert_exporter": "python",
   "pygments_lexer": "ipython3",
   "version": "3.12.5"
  }
 },
 "nbformat": 4,
 "nbformat_minor": 2
}
