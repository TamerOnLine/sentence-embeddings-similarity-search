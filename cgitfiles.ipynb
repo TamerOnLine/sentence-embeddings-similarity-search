{
 "cells": [
  {
   "cell_type": "code",
   "execution_count": 1,
   "metadata": {},
   "outputs": [],
   "source": [
    "import os\n",
    "\n",
    "current_directory = os.getcwd()"
   ]
  },
  {
   "cell_type": "code",
   "execution_count": 2,
   "metadata": {},
   "outputs": [
    {
     "name": "stdout",
     "output_type": "stream",
     "text": [
      ".gitignore file created successfully!\n"
     ]
    }
   ],
   "source": [
    "ignore_content = \"\"\"\n",
    "# Ignore log files\n",
    "*.log\n",
    "\n",
    "# Ignore node_modules folder\n",
    "/node_modules/\n",
    "\n",
    "# Ignore secret files\n",
    "secrets.txt\n",
    "\n",
    "# Ignore all hidden files (starting with .)\n",
    ".git/\n",
    ".gitignore\n",
    "\n",
    "# Ignore temporary files\n",
    "temp_*\n",
    "\n",
    "c*.ipynb\n",
    "\n",
    "\n",
    "\"\"\"\n",
    "\n",
    "with open(\".gitignore\", \"w\") as gitignore_file:\n",
    "    gitignore_file.write(ignore_content)\n",
    "\n",
    "print(\".gitignore file created successfully!\")"
   ]
  },
  {
   "cell_type": "markdown",
   "metadata": {},
   "source": [
    "# Code of Conduct.md"
   ]
  },
  {
   "cell_type": "code",
   "execution_count": 3,
   "metadata": {},
   "outputs": [
    {
     "name": "stdout",
     "output_type": "stream",
     "text": [
      "CODE_OF_CONDUCT.md file created successfully in the current directory!\n"
     ]
    }
   ],
   "source": [
    "code_of_conduct_content = \"\"\"\n",
    "# Contributor Covenant Code of Conduct\n",
    "\n",
    "## Our Pledge\n",
    "We as members, contributors, and leaders pledge to make participation in our community a harassment-free experience for everyone...\n",
    "\n",
    "For the full text, refer to https://www.contributor-covenant.org/version/2/0/code_of_conduct/.\n",
    "\"\"\"\n",
    "\n",
    "with open(os.path.join(current_directory, \"CODE_OF_CONDUCT.md\"), \"w\") as code_of_conduct_file:\n",
    "    code_of_conduct_file.write(code_of_conduct_content)\n",
    "\n",
    "print(\"CODE_OF_CONDUCT.md file created successfully in the current directory!\")\n"
   ]
  },
  {
   "cell_type": "markdown",
   "metadata": {},
   "source": [
    "# CONTRIBUTING.md"
   ]
  },
  {
   "cell_type": "code",
   "execution_count": 4,
   "metadata": {},
   "outputs": [
    {
     "name": "stdout",
     "output_type": "stream",
     "text": [
      "CONTRIBUTING.md file created successfully in the current directory!\n"
     ]
    }
   ],
   "source": [
    "contributing_content = \"\"\"\n",
    "# Contributing Guidelines\n",
    "\n",
    "We welcome contributions to this project! Please follow these guidelines:\n",
    "\n",
    "1. Fork the repository.\n",
    "2. Create a new branch for your feature or bug fix.\n",
    "3. Submit a pull request.\n",
    "\n",
    "Thank you for your contributions!\n",
    "\"\"\"\n",
    "\n",
    "with open(os.path.join(current_directory, \"CONTRIBUTING.md\"), \"w\") as contributing_file:\n",
    "    contributing_file.write(contributing_content)\n",
    "\n",
    "print(\"CONTRIBUTING.md file created successfully in the current directory!\")"
   ]
  },
  {
   "cell_type": "markdown",
   "metadata": {},
   "source": [
    "# LICENSE"
   ]
  },
  {
   "cell_type": "code",
   "execution_count": 5,
   "metadata": {},
   "outputs": [
    {
     "name": "stdout",
     "output_type": "stream",
     "text": [
      "LICENSE file created successfully in the current directory!\n"
     ]
    }
   ],
   "source": [
    "license_content = \"\"\"\n",
    "MIT License\n",
    "\n",
    "Copyright (c) 2024 Your mystrotamer\n",
    "\n",
    "Permission is hereby granted, free of charge, to any person obtaining a copy\n",
    "of this software and associated documentation files (the \"Software\"), to deal\n",
    "in the Software without restriction, including without limitation the rights\n",
    "to use, copy, modify, merge, publish, distribute, sublicense, and/or sell\n",
    "copies of the Software, and to permit persons to whom the Software is\n",
    "furnished to do so, subject to the following conditions...\n",
    "\n",
    "For the full text of the MIT License, refer to https://opensource.org/licenses/MIT.\n",
    "\"\"\"\n",
    "\n",
    "with open(os.path.join(current_directory, \"LICENSE\"), \"w\") as license_file:\n",
    "    license_file.write(license_content)\n",
    "\n",
    "print(\"LICENSE file created successfully in the current directory!\")"
   ]
  },
  {
   "cell_type": "markdown",
   "metadata": {},
   "source": [
    "# README.md"
   ]
  },
  {
   "cell_type": "code",
   "execution_count": 6,
   "metadata": {},
   "outputs": [
    {
     "name": "stdout",
     "output_type": "stream",
     "text": [
      "README.md file created successfully in the current directory!\n"
     ]
    }
   ],
   "source": [
    "\n",
    "import os\n",
    "\n",
    "readme_content = \"\"\" \n",
    "# Project Name\n",
    "\n",
    "## Description\n",
    "This project provides a clear and concise solution for a real-world problem involving efficient data processing and analysis using Python. It is built using popular libraries such as Pandas, NumPy, and Matplotlib, focusing on performance, scalability, and ease of use.\n",
    "\n",
    "## Features\n",
    "- **Data Loading**: Load datasets from various formats like CSV, Excel, or SQL databases efficiently.\n",
    "- **Data Cleaning**: Perform comprehensive data cleaning operations, including handling missing values, data normalization, and feature engineering.\n",
    "- **Data Visualization**: Create insightful visualizations using Matplotlib and Seaborn for data analysis and reporting.\n",
    "- **Modular Design**: The project follows a modular design approach, making it easy to extend and integrate with other systems.\n",
    "- **Unit Testing**: Built-in unit tests for all functions ensure code reliability and robustness.\n",
    "\n",
    "## Installation\n",
    "To get started with this project, follow these steps:\n",
    "\n",
    "1. **Clone the repository**:\n",
    "   \\\\`\\\\`\\\\`bash\n",
    "   git clone https://github.com/yourusername/repository_name.git\n",
    "   cd repository_name\n",
    "   \\\\`\\\\`\\\\`\n",
    "\n",
    "2. **Set up a virtual environment**:\n",
    "   On Windows:\n",
    "   \\\\`\\\\`\\\\`bash\n",
    "   python -m venv env\n",
    "   env\\\\Scripts\\\\ctivate\n",
    "   \\\\`\\\\`\\\\`\n",
    "\n",
    "   On Linux or macOS:\n",
    "   \\\\`\\\\`\\\\`bash\n",
    "   python3 -m venv env\n",
    "   source env/bin/activate\n",
    "   \\\\`\\\\`\\\\`\n",
    "\n",
    "3. **Install dependencies**:\n",
    "   \\\\`\\\\`\\\\`bash\n",
    "   pip install -r requirements.txt\n",
    "   \\\\`\\\\`\\\\`\n",
    "\n",
    "4. **Run the application**:\n",
    "   \\\\`\\\\`\\\\`bash\n",
    "   python main.py\n",
    "   \\\\`\\\\`\\\\`\n",
    "\n",
    "5. **Run unit tests**:\n",
    "   \\\\`\\\\`\\\\`bash\n",
    "   python -m unittest discover\n",
    "   \\\\`\\\\`\\\\`\n",
    "\n",
    "## Usage\n",
    "After installation, you can use this project by running the \\\\`main.py\\\\` file, which will initiate the data pipeline, performing data cleaning, analysis, and visualizations. Modify the configurations in the \\\\`config.py\\\\` file to customize the dataset or operations.\n",
    "\n",
    "Example usage:\n",
    "\\\\`\\\\`\\\\`bash\n",
    "python main.py --input data/input_file.csv --output results/output_file.csv\n",
    "\\\\`\\\\`\\\\`\n",
    "\n",
    "## Contributing\n",
    "If you'd like to contribute to this project, please follow these steps:\n",
    "1. Fork the repository.\n",
    "2. Create a new branch (\\\\`git checkout -b feature_branch\\\\`).\n",
    "3. Make your changes and commit them (\\\\`git commit -m 'Add new feature'\\\\`).\n",
    "4. Push to the branch (\\\\`git push origin feature_branch\\\\`).\n",
    "5. Open a pull request.\n",
    "\n",
    "## License\n",
    "This project is licensed under the MIT License. See the [LICENSE](LICENSE) file for more details.\n",
    "\n",
    "## Contact\n",
    "For any questions or feedback, feel free to reach out to \\\\`info@tameronline.com\\\\`.\n",
    "\n",
    "\"\"\"\n",
    "\n",
    "current_directory = os.getcwd()\n",
    "with open(os.path.join(current_directory, \"README.md\"), \"w\") as readme_file:\n",
    "    readme_file.write(readme_content)\n",
    "\n",
    "print(\"README.md file created successfully in the current directory!\")\n"
   ]
  },
  {
   "cell_type": "markdown",
   "metadata": {},
   "source": [
    "# Security Policy.md"
   ]
  },
  {
   "cell_type": "code",
   "execution_count": 7,
   "metadata": {},
   "outputs": [
    {
     "name": "stdout",
     "output_type": "stream",
     "text": [
      "SECURITY.md file created successfully in the current directory!\n"
     ]
    }
   ],
   "source": [
    "security_content = \"\"\"\n",
    "# Security Policy\n",
    "\n",
    "## Reporting a Vulnerability\n",
    "\n",
    "If you find a vulnerability, please email us at security@example.com. We will review and respond to your report within a reasonable timeframe.\n",
    "\"\"\"\n",
    "\n",
    "with open(os.path.join(current_directory, \"SECURITY.md\"), \"w\") as security_file:\n",
    "    security_file.write(security_content)\n",
    "\n",
    "print(\"SECURITY.md file created successfully in the current directory!\")"
   ]
  },
  {
   "cell_type": "markdown",
   "metadata": {},
   "source": [
    "# .github"
   ]
  },
  {
   "cell_type": "markdown",
   "metadata": {},
   "source": [
    "## bug_report.md"
   ]
  },
  {
   "cell_type": "code",
   "execution_count": 8,
   "metadata": {},
   "outputs": [
    {
     "name": "stdout",
     "output_type": "stream",
     "text": [
      "bug_report.md file created successfully!\n"
     ]
    }
   ],
   "source": [
    "issue_template_dir = os.path.join(os.getcwd(), \".github\", \"ISSUE_TEMPLATE\")\n",
    "os.makedirs(issue_template_dir, exist_ok=True)\n",
    "\n",
    "bug_report_content = \"\"\"\n",
    "---\n",
    "name: Bug report\n",
    "about: Create a report to help us improve\n",
    "title: ''\n",
    "labels: bug\n",
    "assignees: ''\n",
    "\n",
    "---\n",
    "\n",
    "**Describe the bug**\n",
    "A clear and concise description of what the bug is.\n",
    "\n",
    "**To Reproduce**\n",
    "Steps to reproduce the behavior:\n",
    "1. Go to '...'\n",
    "2. Click on '....'\n",
    "3. Scroll down to '....'\n",
    "4. See error\n",
    "\n",
    "**Expected behavior**\n",
    "A clear and concise description of what you expected to happen.\n",
    "\n",
    "**Screenshots**\n",
    "If applicable, add screenshots to help explain your problem.\n",
    "\n",
    "**Additional context**\n",
    "Add any other context about the problem here.\n",
    "\"\"\"\n",
    "\n",
    "with open(os.path.join(issue_template_dir, \"bug_report.md\"), \"w\") as file:\n",
    "    file.write(bug_report_content)\n",
    "\n",
    "print(\"bug_report.md file created successfully!\")"
   ]
  },
  {
   "cell_type": "markdown",
   "metadata": {},
   "source": [
    "## config.yml"
   ]
  },
  {
   "cell_type": "code",
   "execution_count": 9,
   "metadata": {},
   "outputs": [
    {
     "name": "stdout",
     "output_type": "stream",
     "text": [
      "config.yml file created successfully!\n"
     ]
    }
   ],
   "source": [
    "issue_template_dir = os.path.join(os.getcwd(), \".github\", \"ISSUE_TEMPLATE\")\n",
    "os.makedirs(issue_template_dir, exist_ok=True)\n",
    "\n",
    "config_content = \"\"\"\n",
    "blank_issues_enabled: false\n",
    "contact_links:\n",
    "  - name: Bug Report\n",
    "    url: https://github.com/TamerOnLine/creategit/issues/new?template=bug_report.md\n",
    "    about: Create a report to help us improve\n",
    "\"\"\"\n",
    "\n",
    "with open(os.path.join(issue_template_dir, \"config.yml\"), \"w\") as config_file:\n",
    "    config_file.write(config_content)\n",
    "\n",
    "print(\"config.yml file created successfully!\")"
   ]
  },
  {
   "cell_type": "markdown",
   "metadata": {},
   "source": [
    "## dependabot.yml"
   ]
  },
  {
   "cell_type": "code",
   "execution_count": 10,
   "metadata": {},
   "outputs": [
    {
     "name": "stdout",
     "output_type": "stream",
     "text": [
      "dependabot.yml file created and content added successfully!\n"
     ]
    }
   ],
   "source": [
    "dependabot_content = \"\"\"\n",
    "version: 2\n",
    "updates:\n",
    "  - package-ecosystem: \"pip\"\n",
    "    directory: \"/\"\n",
    "    schedule:\n",
    "      interval: \"weekly\"\n",
    "\"\"\"\n",
    "\n",
    "with open(\".github/dependabot.yml\", \"w\") as dependabot_file:\n",
    "    dependabot_file.write(dependabot_content)\n",
    "\n",
    "print(\"dependabot.yml file created and content added successfully!\")\n"
   ]
  },
  {
   "cell_type": "markdown",
   "metadata": {},
   "source": [
    "## Pull Request Template.md"
   ]
  },
  {
   "cell_type": "code",
   "execution_count": 11,
   "metadata": {},
   "outputs": [
    {
     "name": "stdout",
     "output_type": "stream",
     "text": [
      "Pull request template created successfully in the current directory!\n"
     ]
    }
   ],
   "source": [
    "pull_request_template_dir = os.path.join(current_directory, \".github\")\n",
    "os.makedirs(pull_request_template_dir, exist_ok=True)\n",
    "\n",
    "pull_request_template_content = \"\"\"\n",
    "# Pull Request\n",
    "\n",
    "## Description\n",
    "Please include a summary of the change and which issue is fixed.\n",
    "\n",
    "## Checklist:\n",
    "\n",
    "- [ ] My code follows the style guidelines of this project.\n",
    "- [ ] I have performed a self-review of my code.\n",
    "- [ ] I have commented my code, particularly in hard-to-understand areas.\n",
    "- [ ] I have made corresponding changes to the documentation.\n",
    "\"\"\"\n",
    "\n",
    "with open(os.path.join(pull_request_template_dir, \"PULL_REQUEST_TEMPLATE.md\"), \"w\") as pull_request_file:\n",
    "    pull_request_file.write(pull_request_template_content)\n",
    "\n",
    "print(\"Pull request template created successfully in the current directory!\")"
   ]
  }
 ],
 "metadata": {
  "kernelspec": {
   "display_name": "Python 3",
   "language": "python",
   "name": "python3"
  },
  "language_info": {
   "codemirror_mode": {
    "name": "ipython",
    "version": 3
   },
   "file_extension": ".py",
   "mimetype": "text/x-python",
   "name": "python",
   "nbconvert_exporter": "python",
   "pygments_lexer": "ipython3",
   "version": "3.13.0"
  }
 },
 "nbformat": 4,
 "nbformat_minor": 2
}
