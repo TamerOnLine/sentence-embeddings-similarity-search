{
 "cells": [
  {
   "cell_type": "code",
   "execution_count": 1,
   "metadata": {},
   "outputs": [
    {
     "name": "stdout",
     "output_type": "stream",
     "text": [
      "Initialized empty Git repository in F:/K_mystro/course/c07414102024/task3/.git/\n",
      "\n"
     ]
    }
   ],
   "source": [
    "import os  # Importing the os module to interact with the operating system\n",
    "import subprocess  # Importing subprocess to run system-level commands\n",
    "\n",
    "# Check if the .git directory exists\n",
    "if not os.path.isdir(\".git\"):  \n",
    "    # If .git doesn't exist, run the git init command\n",
    "    result = subprocess.run(\n",
    "        [\"git\", \"init\"],  # List of command arguments: 'git init' initializes a new Git repository\n",
    "        capture_output=True,  # Capture the standard output and error streams\n",
    "        text=True  # Output should be captured as a string, not bytes\n",
    "    )\n",
    "    print(result.stdout)  # Print the standard output (stdout) of the command\n",
    "else:\n",
    "    print(\"Git repository already initialized.\")  # Inform the user that the repository is already initialized\n"
   ]
  },
  {
   "cell_type": "code",
   "execution_count": 2,
   "metadata": {},
   "outputs": [
    {
     "name": "stdout",
     "output_type": "stream",
     "text": [
      "Added remote 'origin' with URL: https://github.com/TamerOnLine/AI-Sentiment-Classifier.git\n"
     ]
    }
   ],
   "source": [
    "user = 'TamerOnLine'\n",
    "name_git = \"sentence-embeddings-similarity-search\"\n",
    "\n",
    "try:\n",
    "    # Check if the remote 'origin' exists\n",
    "    result = subprocess.run([\"git\", \"remote\", \"get-url\", \"origin\"], capture_output=True, text=True, check=True)\n",
    "    print(f\"Remote 'origin' already exists with URL: {result.stdout.strip()}\")\n",
    "    # If it exists, set a new URL for 'origin'\n",
    "    subprocess.run([\"git\", \"remote\", \"set-url\", \"origin\", f\"https://github.com/{user}/{name_git}.git\"], check=True)\n",
    "    print(f\"Updated remote 'origin' to https://github.com/{user}/{name_git}.git\")\n",
    "except subprocess.CalledProcessError:\n",
    "    # If 'origin' doesn't exist, add it\n",
    "    subprocess.run([\"git\", \"remote\", \"add\", \"origin\", f\"https://github.com/{user}/{name_git}.git\"], check=True)\n",
    "    print(f\"Added remote 'origin' with URL: https://github.com/{user}/{name_git}.git\")\n"
   ]
  },
  {
   "cell_type": "code",
   "execution_count": 3,
   "metadata": {},
   "outputs": [
    {
     "name": "stderr",
     "output_type": "stream",
     "text": [
      "warning: in the working copy of 'T3.ipynb', LF will be replaced by CRLF the next time Git touches it\n",
      "warning: in the working copy of 'cgit.ipynb', LF will be replaced by CRLF the next time Git touches it\n",
      "warning: in the working copy of 'cgitfiles.ipynb', LF will be replaced by CRLF the next time Git touches it\n"
     ]
    }
   ],
   "source": [
    "!git add ."
   ]
  },
  {
   "cell_type": "code",
   "execution_count": 4,
   "metadata": {},
   "outputs": [],
   "source": [
    "commits = \"v01\""
   ]
  },
  {
   "cell_type": "code",
   "execution_count": 5,
   "metadata": {},
   "outputs": [
    {
     "name": "stdout",
     "output_type": "stream",
     "text": [
      "[master (root-commit) 5191ddb] v01\n",
      " 3 files changed, 947 insertions(+)\n",
      " create mode 100644 T3.ipynb\n",
      " create mode 100644 cgit.ipynb\n",
      " create mode 100644 cgitfiles.ipynb\n"
     ]
    }
   ],
   "source": [
    "!git commit -m {commits}"
   ]
  },
  {
   "cell_type": "code",
   "execution_count": 6,
   "metadata": {},
   "outputs": [],
   "source": [
    "!git branch -M main"
   ]
  },
  {
   "cell_type": "code",
   "execution_count": 7,
   "metadata": {},
   "outputs": [
    {
     "name": "stderr",
     "output_type": "stream",
     "text": [
      "fatal: couldn't find remote ref main\n"
     ]
    }
   ],
   "source": [
    "!git pull origin main --allow-unrelated-histories"
   ]
  },
  {
   "cell_type": "code",
   "execution_count": 8,
   "metadata": {},
   "outputs": [
    {
     "name": "stdout",
     "output_type": "stream",
     "text": [
      "branch 'main' set up to track 'origin/main'.\n"
     ]
    },
    {
     "name": "stderr",
     "output_type": "stream",
     "text": [
      "To https://github.com/TamerOnLine/AI-Sentiment-Classifier.git\n",
      " * [new branch]      main -> main\n"
     ]
    }
   ],
   "source": [
    "!git push -u origin main"
   ]
  }
 ],
 "metadata": {
  "kernelspec": {
   "display_name": "Python 3",
   "language": "python",
   "name": "python3"
  },
  "language_info": {
   "codemirror_mode": {
    "name": "ipython",
    "version": 3
   },
   "file_extension": ".py",
   "mimetype": "text/x-python",
   "name": "python",
   "nbconvert_exporter": "python",
   "pygments_lexer": "ipython3",
   "version": "3.13.0"
  }
 },
 "nbformat": 4,
 "nbformat_minor": 2
}
